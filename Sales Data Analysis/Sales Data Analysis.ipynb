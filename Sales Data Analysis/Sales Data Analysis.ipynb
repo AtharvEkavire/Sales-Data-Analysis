{
 "cells": [
  {
   "cell_type": "markdown",
   "metadata": {},
   "source": [
    "Install Required Libraries"
   ]
  },
  {
   "cell_type": "code",
   "execution_count": 29,
   "metadata": {},
   "outputs": [
    {
     "name": "stdout",
     "output_type": "stream",
     "text": [
      "Defaulting to user installation because normal site-packages is not writeable\n",
      "Requirement already satisfied: pandas in c:\\users\\athar\\appdata\\roaming\\python\\python312\\site-packages (2.2.2)\n",
      "Requirement already satisfied: numpy in c:\\users\\athar\\appdata\\roaming\\python\\python312\\site-packages (1.26.4)\n",
      "Requirement already satisfied: matplotlib in c:\\users\\athar\\appdata\\roaming\\python\\python312\\site-packages (3.9.1)\n",
      "Collecting fpdf\n",
      "  Downloading fpdf-1.7.2.tar.gz (39 kB)\n",
      "  Preparing metadata (setup.py): started\n",
      "  Preparing metadata (setup.py): finished with status 'done'\n",
      "Requirement already satisfied: python-dateutil>=2.8.2 in c:\\users\\athar\\appdata\\roaming\\python\\python312\\site-packages (from pandas) (2.9.0.post0)\n",
      "Requirement already satisfied: pytz>=2020.1 in c:\\users\\athar\\appdata\\roaming\\python\\python312\\site-packages (from pandas) (2024.1)\n",
      "Requirement already satisfied: tzdata>=2022.7 in c:\\users\\athar\\appdata\\roaming\\python\\python312\\site-packages (from pandas) (2024.1)\n",
      "Requirement already satisfied: contourpy>=1.0.1 in c:\\users\\athar\\appdata\\roaming\\python\\python312\\site-packages (from matplotlib) (1.2.1)\n",
      "Requirement already satisfied: cycler>=0.10 in c:\\users\\athar\\appdata\\roaming\\python\\python312\\site-packages (from matplotlib) (0.12.1)\n",
      "Requirement already satisfied: fonttools>=4.22.0 in c:\\users\\athar\\appdata\\roaming\\python\\python312\\site-packages (from matplotlib) (4.53.1)\n",
      "Requirement already satisfied: kiwisolver>=1.3.1 in c:\\users\\athar\\appdata\\roaming\\python\\python312\\site-packages (from matplotlib) (1.4.5)\n",
      "Requirement already satisfied: packaging>=20.0 in c:\\users\\athar\\appdata\\roaming\\python\\python312\\site-packages (from matplotlib) (24.1)\n",
      "Requirement already satisfied: pillow>=8 in c:\\users\\athar\\appdata\\roaming\\python\\python312\\site-packages (from matplotlib) (10.4.0)\n",
      "Requirement already satisfied: pyparsing>=2.3.1 in c:\\users\\athar\\appdata\\roaming\\python\\python312\\site-packages (from matplotlib) (3.1.2)\n",
      "Requirement already satisfied: six>=1.5 in c:\\users\\athar\\appdata\\roaming\\python\\python312\\site-packages (from python-dateutil>=2.8.2->pandas) (1.16.0)\n",
      "Building wheels for collected packages: fpdf\n",
      "  Building wheel for fpdf (setup.py): started\n",
      "  Building wheel for fpdf (setup.py): finished with status 'done'\n",
      "  Created wheel for fpdf: filename=fpdf-1.7.2-py2.py3-none-any.whl size=40714 sha256=5777cd2973301f5f6da609d7f84dc9184437880b8acdf063d3bdaa83e2df5ee9\n",
      "  Stored in directory: c:\\users\\athar\\appdata\\local\\pip\\cache\\wheels\\6e\\62\\11\\dc73d78e40a218ad52e7451f30166e94491be013a7850b5d75\n",
      "Successfully built fpdf\n",
      "Installing collected packages: fpdf\n",
      "Successfully installed fpdf-1.7.2\n",
      "Note: you may need to restart the kernel to use updated packages.\n"
     ]
    },
    {
     "name": "stderr",
     "output_type": "stream",
     "text": [
      "\n",
      "[notice] A new release of pip is available: 24.0 -> 24.2\n",
      "[notice] To update, run: python.exe -m pip install --upgrade pip\n"
     ]
    }
   ],
   "source": [
    "pip install pandas numpy matplotlib fpdf"
   ]
  },
  {
   "cell_type": "markdown",
   "metadata": {},
   "source": [
    "# import Files"
   ]
  },
  {
   "cell_type": "code",
   "execution_count": 30,
   "metadata": {},
   "outputs": [],
   "source": [
    "import pandas as pd\n",
    "import numpy as np\n",
    "import matplotlib.pyplot as plt"
   ]
  },
  {
   "cell_type": "markdown",
   "metadata": {},
   "source": [
    "# Load the data"
   ]
  },
  {
   "cell_type": "code",
   "execution_count": 31,
   "metadata": {},
   "outputs": [],
   "source": [
    "file_path = 'sales_data.csv'\n",
    "data = pd.read_csv(file_path)"
   ]
  },
  {
   "cell_type": "markdown",
   "metadata": {},
   "source": [
    "# Explore the dataset"
   ]
  },
  {
   "cell_type": "code",
   "execution_count": 32,
   "metadata": {},
   "outputs": [
    {
     "name": "stdout",
     "output_type": "stream",
     "text": [
      "First few rows of the dataset:\n",
      "         Date  Day     Month  Year  Customer_Age       Age_Group  \\\n",
      "0  2013-11-26   26  November  2013            19     Youth (<25)   \n",
      "1  2015-11-26   26  November  2015            19     Youth (<25)   \n",
      "2  2014-03-23   23     March  2014            49  Adults (35-64)   \n",
      "3  2016-03-23   23     March  2016            49  Adults (35-64)   \n",
      "4  2014-05-15   15       May  2014            47  Adults (35-64)   \n",
      "\n",
      "  Customer_Gender    Country             State Product_Category Sub_Category  \\\n",
      "0               M     Canada  British Columbia      Accessories   Bike Racks   \n",
      "1               M     Canada  British Columbia      Accessories   Bike Racks   \n",
      "2               M  Australia   New South Wales      Accessories   Bike Racks   \n",
      "3               M  Australia   New South Wales      Accessories   Bike Racks   \n",
      "4               F  Australia   New South Wales      Accessories   Bike Racks   \n",
      "\n",
      "               Product  Order_Quantity  Unit_Cost  Unit_Price  Profit  Cost  \\\n",
      "0  Hitch Rack - 4-Bike               8         45         120     590   360   \n",
      "1  Hitch Rack - 4-Bike               8         45         120     590   360   \n",
      "2  Hitch Rack - 4-Bike              23         45         120    1366  1035   \n",
      "3  Hitch Rack - 4-Bike              20         45         120    1188   900   \n",
      "4  Hitch Rack - 4-Bike               4         45         120     238   180   \n",
      "\n",
      "   Revenue  \n",
      "0      950  \n",
      "1      950  \n",
      "2     2401  \n",
      "3     2088  \n",
      "4      418  \n",
      "\n",
      "Summary of the dataset:\n",
      "<class 'pandas.core.frame.DataFrame'>\n",
      "RangeIndex: 113036 entries, 0 to 113035\n",
      "Data columns (total 18 columns):\n",
      " #   Column            Non-Null Count   Dtype \n",
      "---  ------            --------------   ----- \n",
      " 0   Date              113036 non-null  object\n",
      " 1   Day               113036 non-null  int64 \n",
      " 2   Month             113036 non-null  object\n",
      " 3   Year              113036 non-null  int64 \n",
      " 4   Customer_Age      113036 non-null  int64 \n",
      " 5   Age_Group         113036 non-null  object\n",
      " 6   Customer_Gender   113036 non-null  object\n",
      " 7   Country           113036 non-null  object\n",
      " 8   State             113036 non-null  object\n",
      " 9   Product_Category  113036 non-null  object\n",
      " 10  Sub_Category      113036 non-null  object\n",
      " 11  Product           113036 non-null  object\n",
      " 12  Order_Quantity    113036 non-null  int64 \n",
      " 13  Unit_Cost         113036 non-null  int64 \n",
      " 14  Unit_Price        113036 non-null  int64 \n",
      " 15  Profit            113036 non-null  int64 \n",
      " 16  Cost              113036 non-null  int64 \n",
      " 17  Revenue           113036 non-null  int64 \n",
      "dtypes: int64(9), object(9)\n",
      "memory usage: 15.5+ MB\n",
      "None\n",
      "\n",
      "Statistical summary:\n",
      "                 Day           Year   Customer_Age  Order_Quantity  \\\n",
      "count  113036.000000  113036.000000  113036.000000   113036.000000   \n",
      "mean       15.665753    2014.401739      35.919212       11.901660   \n",
      "std         8.781567       1.272510      11.021936        9.561857   \n",
      "min         1.000000    2011.000000      17.000000        1.000000   \n",
      "25%         8.000000    2013.000000      28.000000        2.000000   \n",
      "50%        16.000000    2014.000000      35.000000       10.000000   \n",
      "75%        23.000000    2016.000000      43.000000       20.000000   \n",
      "max        31.000000    2016.000000      87.000000       32.000000   \n",
      "\n",
      "           Unit_Cost     Unit_Price         Profit           Cost  \\\n",
      "count  113036.000000  113036.000000  113036.000000  113036.000000   \n",
      "mean      267.296366     452.938427     285.051665     469.318695   \n",
      "std       549.835483     922.071219     453.887443     884.866118   \n",
      "min         1.000000       2.000000     -30.000000       1.000000   \n",
      "25%         2.000000       5.000000      29.000000      28.000000   \n",
      "50%         9.000000      24.000000     101.000000     108.000000   \n",
      "75%        42.000000      70.000000     358.000000     432.000000   \n",
      "max      2171.000000    3578.000000   15096.000000   42978.000000   \n",
      "\n",
      "             Revenue  \n",
      "count  113036.000000  \n",
      "mean      754.370360  \n",
      "std      1309.094674  \n",
      "min         2.000000  \n",
      "25%        63.000000  \n",
      "50%       223.000000  \n",
      "75%       800.000000  \n",
      "max     58074.000000  \n"
     ]
    }
   ],
   "source": [
    "print(\"First few rows of the dataset:\")\n",
    "print(data.head())\n",
    "\n",
    "print(\"\\nSummary of the dataset:\")\n",
    "print(data.info())\n",
    "\n",
    "print(\"\\nStatistical summary:\")\n",
    "print(data.describe())"
   ]
  },
  {
   "cell_type": "markdown",
   "metadata": {},
   "source": [
    "# Data Cleaning"
   ]
  },
  {
   "cell_type": "code",
   "execution_count": 33,
   "metadata": {},
   "outputs": [
    {
     "name": "stdout",
     "output_type": "stream",
     "text": [
      "\n",
      "Missing values in each column:\n",
      "Date                0\n",
      "Day                 0\n",
      "Month               0\n",
      "Year                0\n",
      "Customer_Age        0\n",
      "Age_Group           0\n",
      "Customer_Gender     0\n",
      "Country             0\n",
      "State               0\n",
      "Product_Category    0\n",
      "Sub_Category        0\n",
      "Product             0\n",
      "Order_Quantity      0\n",
      "Unit_Cost           0\n",
      "Unit_Price          0\n",
      "Profit              0\n",
      "Cost                0\n",
      "Revenue             0\n",
      "dtype: int64\n"
     ]
    }
   ],
   "source": [
    "print(\"\\nMissing values in each column:\")\n",
    "print(data.isnull().sum())"
   ]
  },
  {
   "cell_type": "markdown",
   "metadata": {},
   "source": [
    "# Convert 'Date' column to datetime"
   ]
  },
  {
   "cell_type": "code",
   "execution_count": 34,
   "metadata": {},
   "outputs": [],
   "source": [
    "data['Date'] = pd.to_datetime(data['Date'], format='%Y-%m-%d')"
   ]
  },
  {
   "cell_type": "markdown",
   "metadata": {},
   "source": [
    "# Analysis Examples\n",
    "1. Total revenue by product category"
   ]
  },
  {
   "cell_type": "code",
   "execution_count": 35,
   "metadata": {},
   "outputs": [
    {
     "name": "stdout",
     "output_type": "stream",
     "text": [
      "\n",
      "Total revenue by product category:\n",
      "Product_Category\n",
      "Accessories    15117992\n",
      "Bikes          61782134\n",
      "Clothing        8370882\n",
      "Name: Revenue, dtype: int64\n"
     ]
    }
   ],
   "source": [
    "revenue_by_category = data.groupby('Product_Category')['Revenue'].sum()\n",
    "print(\"\\nTotal revenue by product category:\")\n",
    "print(revenue_by_category)\n"
   ]
  },
  {
   "cell_type": "markdown",
   "metadata": {},
   "source": [
    "2. Average profit by age group"
   ]
  },
  {
   "cell_type": "code",
   "execution_count": 36,
   "metadata": {},
   "outputs": [
    {
     "name": "stdout",
     "output_type": "stream",
     "text": [
      "\n",
      "Average profit by age group:\n",
      "Age_Group\n",
      "Adults (35-64)          292.375717\n",
      "Seniors (64+)           189.267123\n",
      "Young Adults (25-34)    294.581699\n",
      "Youth (<25)             245.377608\n",
      "Name: Profit, dtype: float64\n"
     ]
    }
   ],
   "source": [
    "average_profit_by_age_group = data.groupby('Age_Group')['Profit'].mean()\n",
    "print(\"\\nAverage profit by age group:\")\n",
    "print(average_profit_by_age_group)\n"
   ]
  },
  {
   "cell_type": "markdown",
   "metadata": {},
   "source": [
    "# Visualization Examples\n",
    "1. Total revenue by product category"
   ]
  },
  {
   "cell_type": "code",
   "execution_count": 37,
   "metadata": {},
   "outputs": [
    {
     "data": {
      "image/png": "[encoded data removed]",
      "text/plain": [
       "<Figure size 500x300 with 1 Axes>"
      ]
     },
     "metadata": {},
     "output_type": "display_data"
    }
   ],
   "source": [
    "plt.figure(figsize=(5, 3))\n",
    "revenue_by_category.plot(kind='bar')\n",
    "plt.title('Total Revenue by Product Category')\n",
    "plt.xlabel('Product Category')\n",
    "plt.ylabel('Total Revenue')\n",
    "plt.xticks(rotation=45)\n",
    "plt.show()"
   ]
  },
  {
   "cell_type": "markdown",
   "metadata": {},
   "source": [
    "2. Average profit by age group"
   ]
  },
  {
   "cell_type": "code",
   "execution_count": 38,
   "metadata": {},
   "outputs": [
    {
     "data": {
      "image/png": "[encoded data removed]",
      "text/plain": [
       "<Figure size 500x300 with 1 Axes>"
      ]
     },
     "metadata": {},
     "output_type": "display_data"
    }
   ],
   "source": [
    "plt.figure(figsize=(5, 3))\n",
    "average_profit_by_age_group.plot(kind='bar', color='skyblue')\n",
    "plt.title('Average Profit by Age Group')\n",
    "plt.xlabel('Age Group')\n",
    "plt.ylabel('Average Profit')\n",
    "plt.xticks(rotation=45)\n",
    "plt.show()"
   ]
  }
 ],
 "metadata": {
  "kernelspec": {
   "display_name": "Python 3",
   "language": "python",
   "name": "python3"
  },
  "language_info": {
   "codemirror_mode": {
    "name": "ipython",
    "version": 3
   },
   "file_extension": ".py",
   "mimetype": "text/x-python",
   "name": "python",
   "nbconvert_exporter": "python",
   "pygments_lexer": "ipython3",
   "version": "3.12.4"
  }
 },
 "nbformat": 4,
 "nbformat_minor": 2
}
